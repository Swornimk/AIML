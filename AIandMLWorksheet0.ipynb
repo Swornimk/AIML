{
  "nbformat": 4,
  "nbformat_minor": 0,
  "metadata": {
    "colab": {
      "provenance": []
    },
    "kernelspec": {
      "name": "python3",
      "display_name": "Python 3"
    },
    "language_info": {
      "name": "python"
    }
  },
  "cells": [
    {
      "cell_type": "code",
      "source": [
        "def convert_units(conversion_type, value):\n",
        "    try:\n",
        "        value = float(value)\n",
        "    except ValueError:\n",
        "        return \"Invalid input. Please enter a numeric value.\"\n",
        "\n",
        "    if conversion_type == 'length':\n",
        "        unit_from = input(\"Enter the unit to convert from (m or ft): \").lower()\n",
        "        if unit_from == 'm':\n",
        "            converted_value = value * 3.28084\n",
        "            return f\"{value} meters is equal to {converted_value} feet\"\n",
        "        elif unit_from == 'ft':\n",
        "            converted_value = value / 3.28084\n",
        "            return f\"{value} feet is equal to {converted_value} meters\"\n",
        "        else:\n",
        "            return \"Invalid unit for length conversion.\"\n",
        "    elif conversion_type == 'weight':\n",
        "        unit_from = input(\"Enter the unit to convert from (kg or lbs): \").lower()\n",
        "        if unit_from == 'kg':\n",
        "            converted_value = value * 2.20462\n",
        "            return f\"{value} kilograms is equal to {converted_value} pounds\"\n",
        "        elif unit_from == 'lbs':\n",
        "            converted_value = value / 2.20462\n",
        "            return f\"{value} pounds is equal to {converted_value} kilograms\"\n",
        "        else:\n",
        "            return \"Invalid unit for weight conversion.\"\n",
        "    elif conversion_type == 'volume':\n",
        "        unit_from = input(\"Enter the unit to convert from (L or gal): \").lower()\n",
        "        if unit_from == 'l':\n",
        "            converted_value = value * 0.264172\n",
        "            return f\"{value} liters is equal to {converted_value} gallons\"\n",
        "        elif unit_from == 'gal':\n",
        "            converted_value = value / 0.264172\n",
        "            return f\"{value} gallons is equal to {converted_value} liters\"\n",
        "        else:\n",
        "            return \"Invalid unit for volume conversion.\"\n",
        "    else:\n",
        "        return \"Invalid conversion type.\"\n",
        "\n",
        "\n",
        "if __name__ == \"__main__\":\n",
        "    conversion_type = input(\"Enter the type of conversion (length, weight, volume): \").lower()\n",
        "    value = input(\"Enter the value to convert: \")\n",
        "    result = convert_units(conversion_type, value)\n",
        "result"
      ],
      "metadata": {
        "colab": {
          "base_uri": "https://localhost:8080/",
          "height": 88
        },
        "id": "lzs0PMRkc6M9",
        "outputId": "4e76addd-0575-4346-bdc2-2dc7fde0c912"
      },
      "execution_count": null,
      "outputs": [
        {
          "name": "stdout",
          "output_type": "stream",
          "text": [
            "Enter the type of conversion (length, weight, volume): length\n",
            "Enter the value to convert: 6\n",
            "Enter the unit to convert from (m or ft): ft\n"
          ]
        },
        {
          "output_type": "execute_result",
          "data": {
            "text/plain": [
              "'6.0 feet is equal to 1.828799941478402 meters'"
            ],
            "application/vnd.google.colaboratory.intrinsic+json": {
              "type": "string"
            }
          },
          "metadata": {},
          "execution_count": 48
        }
      ]
    },
    {
      "cell_type": "code",
      "source": [
        "def calculate_sum(numbers):\n",
        "  try:\n",
        "    return sum(numbers)\n",
        "  except TypeError:\n",
        "    return \"Invalid input: List must contain only numbers.\"\n",
        "\n",
        "def calculate_average(numbers):\n",
        "  try:\n",
        "    if not numbers:\n",
        "      return \"Invalid input: List cannot be empty.\"\n",
        "    return sum(numbers) / len(numbers)\n",
        "  except TypeError:\n",
        "    return \"Invalid input: List must contain only numbers.\"\n",
        "\n",
        "def find_maximum(numbers):\n",
        "  try:\n",
        "    if not numbers:\n",
        "      return \"Invalid input: List cannot be empty.\"\n",
        "    return max(numbers)\n",
        "  except TypeError:\n",
        "    return \"Invalid input: List must contain only numbers.\"\n",
        "\n",
        "def find_minimum(numbers):\n",
        "  try:\n",
        "    if not numbers:\n",
        "      return \"Invalid input: List cannot be empty.\"\n",
        "    return min(numbers)\n",
        "  except TypeError:\n",
        "    return \"Invalid input: List must contain only numbers.\"\n",
        "\n",
        "if __name__ == \"__main__\":\n",
        "  print(\"Select an operation:\")\n",
        "  print(\"1. Calculate Sum\")\n",
        "  print(\"2. Calculate Average\")\n",
        "  print(\"3. Find Maximum\")\n",
        "  print(\"4. Find Minimum\")\n",
        "\n",
        "  choice = input(\"Enter your choice (1-4): \")\n",
        "\n",
        "  try:\n",
        "    numbers_str = input(\"Enter a list of numbers separated by spaces: \")\n",
        "    numbers = [float(x) for x in numbers_str.split()]\n",
        "\n",
        "    if choice == '1':\n",
        "      result = calculate_sum(numbers)\n",
        "    elif choice == '2':\n",
        "      result = calculate_average(numbers)\n",
        "    elif choice == '3':\n",
        "      result = find_maximum(numbers)\n",
        "    elif choice == '4':\n",
        "      result = find_minimum(numbers)\n",
        "    else:\n",
        "      result = \"Invalid choice. Please enter a number between 1 and 4.\"\n",
        "\n",
        "    print(result)\n",
        "\n",
        "  except ValueError:\n",
        "    print(\"Invalid input: Please enter numbers only.\")"
      ],
      "metadata": {
        "colab": {
          "base_uri": "https://localhost:8080/"
        },
        "id": "mXGTeb_7dzmG",
        "outputId": "3fda765b-d8be-4d03-afef-1e0060bd8bd5"
      },
      "execution_count": null,
      "outputs": [
        {
          "output_type": "stream",
          "name": "stdout",
          "text": [
            "Select an operation:\n",
            "1. Calculate Sum\n",
            "2. Calculate Average\n",
            "3. Find Maximum\n",
            "4. Find Minimum\n",
            "Enter your choice (1-4): 2\n",
            "Enter a list of numbers separated by spaces: 1241 11231 12312\n",
            "8261.333333333334\n"
          ]
        }
      ]
    },
    {
      "cell_type": "code",
      "source": [
        "def extract_every_other(lst):\n",
        "  return lst[::2]\n",
        "my_list = [1,2,3,4,5]\n",
        "extract_every_other(my_list)"
      ],
      "metadata": {
        "colab": {
          "base_uri": "https://localhost:8080/"
        },
        "id": "sRMwMI69ebZR",
        "outputId": "bd372dcd-be41-4cdf-f0ae-d9ce7f82b99b"
      },
      "execution_count": null,
      "outputs": [
        {
          "output_type": "execute_result",
          "data": {
            "text/plain": [
              "[1, 3, 5]"
            ]
          },
          "metadata": {},
          "execution_count": 72
        }
      ]
    },
    {
      "cell_type": "code",
      "source": [
        "def get_sublist(lst, start, end):\n",
        "  return lst[start:end+1]\n",
        "get_sublist(my_list, 2, 4)"
      ],
      "metadata": {
        "colab": {
          "base_uri": "https://localhost:8080/"
        },
        "id": "jTz7xe5WexkK",
        "outputId": "2aa591a7-e9b9-4076-be24-d3101887ffbe"
      },
      "execution_count": null,
      "outputs": [
        {
          "output_type": "execute_result",
          "data": {
            "text/plain": [
              "[3, 4, 5]"
            ]
          },
          "metadata": {},
          "execution_count": 73
        }
      ]
    },
    {
      "cell_type": "code",
      "source": [
        "def reverse_list(lst):\n",
        "  return lst[::-1]\n",
        "reverse_list(my_list)"
      ],
      "metadata": {
        "colab": {
          "base_uri": "https://localhost:8080/"
        },
        "id": "h8r6r1NifGsH",
        "outputId": "84e14e18-7813-4614-97b7-de5d597111bb"
      },
      "execution_count": null,
      "outputs": [
        {
          "output_type": "execute_result",
          "data": {
            "text/plain": [
              "[5, 4, 3, 2, 1]"
            ]
          },
          "metadata": {},
          "execution_count": 74
        }
      ]
    },
    {
      "cell_type": "code",
      "source": [
        "def remove_first_last(lst):\n",
        "  return lst[1:-1]\n",
        "remove_first_last(my_list)"
      ],
      "metadata": {
        "colab": {
          "base_uri": "https://localhost:8080/"
        },
        "id": "StRApBZQfQw7",
        "outputId": "4a7c4738-d576-439e-942b-ec57b31abcd1"
      },
      "execution_count": null,
      "outputs": [
        {
          "output_type": "execute_result",
          "data": {
            "text/plain": [
              "[2, 3, 4]"
            ]
          },
          "metadata": {},
          "execution_count": 75
        }
      ]
    },
    {
      "cell_type": "code",
      "source": [
        "def get_first_n(lst):\n",
        "  return lst[:3]\n",
        "get_first_n(my_list)"
      ],
      "metadata": {
        "colab": {
          "base_uri": "https://localhost:8080/"
        },
        "id": "oHD4v9DifWTq",
        "outputId": "74f6371e-d19a-4bbb-a4c8-559b07cd27df"
      },
      "execution_count": null,
      "outputs": [
        {
          "output_type": "execute_result",
          "data": {
            "text/plain": [
              "[1, 2, 3]"
            ]
          },
          "metadata": {},
          "execution_count": 76
        }
      ]
    },
    {
      "cell_type": "code",
      "source": [
        "def get_last_n(lst):\n",
        "  return lst[-2:]\n",
        "get_last_n(my_list)"
      ],
      "metadata": {
        "colab": {
          "base_uri": "https://localhost:8080/"
        },
        "id": "K9zhZUf7fboc",
        "outputId": "954b97ab-799b-4f3a-dd1b-038f95c53d56"
      },
      "execution_count": null,
      "outputs": [
        {
          "output_type": "execute_result",
          "data": {
            "text/plain": [
              "[4, 5]"
            ]
          },
          "metadata": {},
          "execution_count": 77
        }
      ]
    },
    {
      "cell_type": "code",
      "source": [
        "def reverse_ski(lst):\n",
        "  return lst[::-2]\n",
        "reverse_ski(my_list)"
      ],
      "metadata": {
        "colab": {
          "base_uri": "https://localhost:8080/"
        },
        "id": "Ut4dsyttj4ZR",
        "outputId": "cc0c3247-e6d4-4f8a-cedb-1997ff3dd578"
      },
      "execution_count": null,
      "outputs": [
        {
          "output_type": "execute_result",
          "data": {
            "text/plain": [
              "[5, 3, 1]"
            ]
          },
          "metadata": {},
          "execution_count": 78
        }
      ]
    },
    {
      "cell_type": "code",
      "source": [
        "def flatten(lst):\n",
        "  flat_list = []\n",
        "  for sublist in lst:\n",
        "    for item in sublist:\n",
        "      flat_list.append(item)\n",
        "  return flat_list\n",
        "nested_list = [[1,2],[3,4],[5]]\n",
        "flatten(nested_list)"
      ],
      "metadata": {
        "colab": {
          "base_uri": "https://localhost:8080/"
        },
        "id": "gSEsDS_xlAJ_",
        "outputId": "c4577cfd-9604-4de0-9ca1-d5e439b363ea"
      },
      "execution_count": null,
      "outputs": [
        {
          "output_type": "execute_result",
          "data": {
            "text/plain": [
              "[1, 2, 3, 4, 5]"
            ]
          },
          "metadata": {},
          "execution_count": 91
        }
      ]
    },
    {
      "cell_type": "code",
      "source": [
        "def access_nested_element(lst, indices):\n",
        "    try:\n",
        "        element = lst\n",
        "        for index in indices:\n",
        "            element = element[index]\n",
        "        return element\n",
        "    except IndexError:\n",
        "        return None\n",
        "lst = [[1, 2, 3], [4, 5, 6], [7, 8, 9]]\n",
        "indices = [1, 2]\n",
        "result = access_nested_element(lst, indices)\n",
        "print(result)"
      ],
      "metadata": {
        "colab": {
          "base_uri": "https://localhost:8080/"
        },
        "id": "xhyWkL0ilRgU",
        "outputId": "95a25a49-0500-4e13-81d1-473d66094fa4"
      },
      "execution_count": null,
      "outputs": [
        {
          "output_type": "stream",
          "name": "stdout",
          "text": [
            "6\n"
          ]
        }
      ]
    },
    {
      "cell_type": "code",
      "source": [
        "def sum_nested(lst):\n",
        "  total = 0\n",
        "  for element in lst:\n",
        "    if isinstance(element, list):\n",
        "      total += sum_nested(element)\n",
        "    elif isinstance(element, int):\n",
        "      total += element\n",
        "  return total\n",
        "nested_list = [1, [2, 3, [4, 5]], 6]\n",
        "sum_nested(nested_list)"
      ],
      "metadata": {
        "colab": {
          "base_uri": "https://localhost:8080/"
        },
        "id": "WpWB-Ikwlpjh",
        "outputId": "1313e75e-63b2-4d5b-cf0e-a818c81c0928"
      },
      "execution_count": null,
      "outputs": [
        {
          "output_type": "execute_result",
          "data": {
            "text/plain": [
              "21"
            ]
          },
          "metadata": {},
          "execution_count": 93
        }
      ]
    },
    {
      "cell_type": "code",
      "source": [
        "def remove_element(lst, elem):\n",
        "  new_list = []\n",
        "  for sublist in lst:\n",
        "    new_sublist = []\n",
        "    for item in sublist:\n",
        "      if item != elem:\n",
        "        new_sublist.append(item)\n",
        "    new_list.append(new_sublist)\n",
        "  return new_list\n",
        "nested_list = [[1, 2], [3, 2], [4, 5]]\n",
        "remove_element(nested_list, 2)"
      ],
      "metadata": {
        "colab": {
          "base_uri": "https://localhost:8080/"
        },
        "id": "RYurqNw8l6K8",
        "outputId": "492ba2e4-fdb5-451e-84be-0631e698877c"
      },
      "execution_count": null,
      "outputs": [
        {
          "output_type": "execute_result",
          "data": {
            "text/plain": [
              "[[1], [3], [4, 5]]"
            ]
          },
          "metadata": {},
          "execution_count": 95
        }
      ]
    },
    {
      "cell_type": "code",
      "source": [
        "def find_max(lst):\n",
        "    max_element = -float('inf')\n",
        "    for element in lst:\n",
        "        if isinstance(element, list):\n",
        "            max_element = max(max_element, find_max(element))\n",
        "        elif isinstance(element, int) or isinstance(element, float):\n",
        "            max_element = max(max_element, element)\n",
        "    return max_element\n",
        "lst = [1, 2, [3, 4, [5, 6]], 7]\n",
        "find_max(lst)"
      ],
      "metadata": {
        "colab": {
          "base_uri": "https://localhost:8080/"
        },
        "id": "A0brhzS2maxm",
        "outputId": "a9e4db2d-4b2a-479e-b3bf-cc02002cc413"
      },
      "execution_count": null,
      "outputs": [
        {
          "output_type": "execute_result",
          "data": {
            "text/plain": [
              "7"
            ]
          },
          "metadata": {},
          "execution_count": 97
        }
      ]
    },
    {
      "cell_type": "code",
      "source": [
        "def count_occurrences(lst, elem):\n",
        "  count = 0\n",
        "  for sublist in lst:\n",
        "    for item in sublist:\n",
        "      if item == elem:\n",
        "        count += 1\n",
        "  return count\n",
        "\n",
        "lst = [[1, 2], [2, 3], [2, 4]]\n",
        "elem = 2\n",
        "occurrences = count_occurrences(lst, elem)\n",
        "print(f\"The element {elem} appears {occurrences} times in the list.\")"
      ],
      "metadata": {
        "colab": {
          "base_uri": "https://localhost:8080/"
        },
        "id": "keRwc1iumtlW",
        "outputId": "6f5d4ba8-36de-426b-e36e-acb83a465ff8"
      },
      "execution_count": null,
      "outputs": [
        {
          "output_type": "stream",
          "name": "stdout",
          "text": [
            "The element 2 appears 3 times in the list.\n"
          ]
        }
      ]
    },
    {
      "cell_type": "code",
      "source": [
        "def deep_flatten(lst):\n",
        "    flat_list = []\n",
        "    for item in lst:\n",
        "        if isinstance(item, list):\n",
        "            flat_list.extend(deep_flatten(item))\n",
        "        else:\n",
        "            flat_list.append(item)\n",
        "    return flat_list\n",
        "lst = [[[1],[2],[3],[4],[5]],[[6,7],[8,9]]]\n",
        "deep_flatten(lst)"
      ],
      "metadata": {
        "colab": {
          "base_uri": "https://localhost:8080/"
        },
        "id": "M-Kc3Mmwn_JK",
        "outputId": "0a5cc024-0039-41dc-d3d2-2dc2de756c66"
      },
      "execution_count": null,
      "outputs": [
        {
          "output_type": "execute_result",
          "data": {
            "text/plain": [
              "[1, 2, 3, 4, 5, 6, 7, 8, 9]"
            ]
          },
          "metadata": {},
          "execution_count": 102
        }
      ]
    },
    {
      "cell_type": "code",
      "source": [
        "def average_nested(lst):\n",
        "  total_sum = 0\n",
        "  total_count = 0\n",
        "\n",
        "  for sublist in lst:\n",
        "    if not isinstance(sublist, list):\n",
        "      return \"Invalid input: Sublists must be lists.\"\n",
        "    for element in sublist:\n",
        "      if not isinstance(element, (int, float)):\n",
        "        return \"Invalid input: Elements must be numbers.\"\n",
        "      total_sum += element\n",
        "      total_count += 1\n",
        "\n",
        "  if total_count == 0:\n",
        "    return \"Invalid input: The list cannot be empty.\"\n",
        "\n",
        "  return total_sum / total_count\n",
        "lst = [[1, 2, 3], [4, 5, 6], [7, 8, 9]]\n",
        "average_nested(lst)"
      ],
      "metadata": {
        "colab": {
          "base_uri": "https://localhost:8080/"
        },
        "id": "EJAHQ9EKqXLH",
        "outputId": "aebc8451-fb2f-4762-dfb4-e8e7372dd4e5"
      },
      "execution_count": null,
      "outputs": [
        {
          "output_type": "execute_result",
          "data": {
            "text/plain": [
              "5.0"
            ]
          },
          "metadata": {},
          "execution_count": 103
        }
      ]
    },
    {
      "cell_type": "code",
      "source": [
        "import numpy as np\n",
        "\n",
        "empty_array = np.empty((2, 2))\n",
        "\n",
        "ones_array = np.ones((4, 2))\n",
        "\n",
        "fill_array = np.full((3, 3), 5)\n",
        "\n",
        "example_array = np.array([[1, 2], [3, 4]])\n",
        "zeros_like_array = np.zeros_like(example_array)\n",
        "\n",
        "ones_like_array = np.ones_like(example_array)\n",
        "\n",
        "new_list = [1, 2, 3, 4]\n",
        "numpy_array = np.array(new_list)\n",
        "\n",
        "\n",
        "print(\"Empty Array:\\n\", empty_array)\n",
        "print(\"\\nOnes Array:\\n\", ones_array)\n",
        "print(\"\\nFill Array:\\n\", fill_array)\n",
        "print(\"\\nZeros Like Array:\\n\", zeros_like_array)\n",
        "print(\"\\nOnes Like Array:\\n\", ones_like_array)\n",
        "print(\"\\nNumpy Array from List:\\n\", numpy_array)"
      ],
      "metadata": {
        "colab": {
          "base_uri": "https://localhost:8080/"
        },
        "id": "RFaLgXIJqlIK",
        "outputId": "08cee77f-f238-4ff3-df31-192e7baa1e94"
      },
      "execution_count": null,
      "outputs": [
        {
          "output_type": "stream",
          "name": "stdout",
          "text": [
            "Empty Array:\n",
            " [[5.e-324 5.e-324]\n",
            " [5.e-324 5.e-324]]\n",
            "\n",
            "Ones Array:\n",
            " [[1. 1.]\n",
            " [1. 1.]\n",
            " [1. 1.]\n",
            " [1. 1.]]\n",
            "\n",
            "Fill Array:\n",
            " [[5 5 5]\n",
            " [5 5 5]\n",
            " [5 5 5]]\n",
            "\n",
            "Zeros Like Array:\n",
            " [[0 0]\n",
            " [0 0]]\n",
            "\n",
            "Ones Like Array:\n",
            " [[1 1]\n",
            " [1 1]]\n",
            "\n",
            "Numpy Array from List:\n",
            " [1 2 3 4]\n"
          ]
        }
      ]
    },
    {
      "cell_type": "code",
      "source": [
        "import numpy as np\n",
        "\n",
        "array_1 = np.arange(10, 50)\n",
        "print(\"Array with values from 10 to 49:\\n\", array_1)\n",
        "\n",
        "matrix_1 = np.arange(0, 9).reshape(3, 3)\n",
        "print(\"\\n3x3 matrix with values from 0 to 8:\\n\", matrix_1)\n",
        "\n",
        "identity_matrix = np.eye(3)\n",
        "print(\"\\n3x3 identity matrix:\\n\", identity_matrix)\n",
        "\n",
        "random_array = np.random.random(30)\n",
        "mean_value = random_array.mean()\n",
        "print(\"\\nRandom array of size 30:\\n\", random_array)\n",
        "print(\"\\nMean of the random array:\", mean_value)\n",
        "\n",
        "random_array_10x10 = np.random.random((10, 10))\n",
        "min_value = random_array_10x10.min()\n",
        "max_value = random_array_10x10.max()\n",
        "print(\"\\n10x10 array with random values:\\n\", random_array_10x10)\n",
        "print(\"\\nMinimum value:\", min_value)\n",
        "print(\"Maximum value:\", max_value)\n",
        "\n",
        "zero_array = np.zeros(10)\n",
        "zero_array[4] = 1\n",
        "print(\"\\nZero array with 5th element replaced by 1:\\n\", zero_array)\n",
        "\n",
        "arr = [1, 2, 0, 0, 4, 0]\n",
        "reversed_arr = arr[::-1]\n",
        "print(\"\\nReversed array:\", reversed_arr)\n",
        "\n",
        "array_2d = np.ones((5, 5))\n",
        "array_2d[1:-1, 1:-1] = 0\n",
        "print(\"\\n2D array with 1 on border and 0 inside:\\n\", array_2d)\n",
        "\n",
        "checkerboard = np.zeros((8, 8), dtype=int)\n",
        "checkerboard[1::2, ::2] = 1\n",
        "checkerboard[::2, 1::2] = 1\n",
        "print(\"\\n8x8 matrix with checkerboard pattern:\\n\", checkerboard)"
      ],
      "metadata": {
        "colab": {
          "base_uri": "https://localhost:8080/"
        },
        "id": "j1rEzao5r3-N",
        "outputId": "32e72a8c-0fd6-49c7-eeef-4119937aaae7"
      },
      "execution_count": null,
      "outputs": [
        {
          "output_type": "stream",
          "name": "stdout",
          "text": [
            "Array with values from 10 to 49:\n",
            " [10 11 12 13 14 15 16 17 18 19 20 21 22 23 24 25 26 27 28 29 30 31 32 33\n",
            " 34 35 36 37 38 39 40 41 42 43 44 45 46 47 48 49]\n",
            "\n",
            "3x3 matrix with values from 0 to 8:\n",
            " [[0 1 2]\n",
            " [3 4 5]\n",
            " [6 7 8]]\n",
            "\n",
            "3x3 identity matrix:\n",
            " [[1. 0. 0.]\n",
            " [0. 1. 0.]\n",
            " [0. 0. 1.]]\n",
            "\n",
            "Random array of size 30:\n",
            " [0.93601237 0.94077206 0.30783847 0.31819609 0.62343002 0.89645361\n",
            " 0.83301508 0.9115115  0.18069101 0.86419214 0.58117636 0.8717942\n",
            " 0.74974409 0.86417173 0.34643789 0.61601585 0.58900405 0.85657826\n",
            " 0.07231506 0.46207567 0.79657769 0.90998852 0.3605613  0.6211574\n",
            " 0.82865318 0.11481363 0.0074488  0.45697348 0.89521553 0.43842223]\n",
            "\n",
            "Mean of the random array: 0.6083745759274443\n",
            "\n",
            "10x10 array with random values:\n",
            " [[0.2735121  0.32638035 0.98180451 0.58840325 0.57130217 0.91800673\n",
            "  0.08590198 0.88482257 0.70045362 0.58155827]\n",
            " [0.75979509 0.94475335 0.84560388 0.1808436  0.57968324 0.22635981\n",
            "  0.57245277 0.87306798 0.7351081  0.91214669]\n",
            " [0.89471676 0.44190901 0.51268899 0.99200567 0.15068416 0.61700222\n",
            "  0.23914141 0.10457714 0.57303278 0.21632945]\n",
            " [0.16099484 0.80933436 0.32955842 0.33704999 0.00822365 0.14934698\n",
            "  0.1903849  0.9004501  0.72280412 0.36138006]\n",
            " [0.0361311  0.44807352 0.54382194 0.44605715 0.27564518 0.46779652\n",
            "  0.84241455 0.40224842 0.22701185 0.13044319]\n",
            " [0.41870981 0.81794567 0.1257027  0.13308797 0.20159908 0.97124565\n",
            "  0.17213175 0.66404455 0.71261974 0.81404166]\n",
            " [0.69138191 0.28771938 0.76514283 0.86941666 0.60482757 0.67720227\n",
            "  0.56201553 0.95887386 0.19909776 0.75849435]\n",
            " [0.87497665 0.97135722 0.04488657 0.92477866 0.73299995 0.8012285\n",
            "  0.96468874 0.15530554 0.07172674 0.09725996]\n",
            " [0.52995609 0.61742549 0.9667356  0.97961169 0.92209233 0.33475125\n",
            "  0.34546117 0.18636455 0.76362306 0.03628159]\n",
            " [0.26907863 0.47995304 0.98627884 0.54947423 0.8470807  0.21407285\n",
            "  0.61765752 0.28943616 0.24879143 0.13014673]]\n",
            "\n",
            "Minimum value: 0.008223651681932731\n",
            "Maximum value: 0.9920056661881024\n",
            "\n",
            "Zero array with 5th element replaced by 1:\n",
            " [0. 0. 0. 0. 1. 0. 0. 0. 0. 0.]\n",
            "\n",
            "Reversed array: [0, 4, 0, 0, 2, 1]\n",
            "\n",
            "2D array with 1 on border and 0 inside:\n",
            " [[1. 1. 1. 1. 1.]\n",
            " [1. 0. 0. 0. 1.]\n",
            " [1. 0. 0. 0. 1.]\n",
            " [1. 0. 0. 0. 1.]\n",
            " [1. 1. 1. 1. 1.]]\n",
            "\n",
            "8x8 matrix with checkerboard pattern:\n",
            " [[0 1 0 1 0 1 0 1]\n",
            " [1 0 1 0 1 0 1 0]\n",
            " [0 1 0 1 0 1 0 1]\n",
            " [1 0 1 0 1 0 1 0]\n",
            " [0 1 0 1 0 1 0 1]\n",
            " [1 0 1 0 1 0 1 0]\n",
            " [0 1 0 1 0 1 0 1]\n",
            " [1 0 1 0 1 0 1 0]]\n"
          ]
        }
      ]
    },
    {
      "cell_type": "code",
      "source": [
        "import numpy as np\n",
        "\n",
        "x = np.array([[1,2],[3,5]])\n",
        "y = np.array([[5,6],[7,8]])\n",
        "v = np.array([9,10])\n",
        "w = np.array([11,12])\n",
        "\n",
        "print(\"Sum of x and y:\\n\",x + y)\n",
        "\n",
        "print(\"Difference of x and y:\\n\",x - y)\n",
        "\n",
        "print(\"x multiplied by 3:\\n\", x * 3)\n",
        "\n",
        "print(\"Square of elements in x:\\n\", x**2)\n",
        "\n",
        "print(\"Dot product of v and w:\", v.dot(w))\n",
        "print(\"Dot product of x and v:\\n\", x.dot(v))\n",
        "print(\"Dot product of x and y:\\n\", x.dot(y))\n",
        "\n",
        "print(\"Concatenate x and y along rows:\\n\",np.concatenate((x,y),axis=0))\n",
        "print(\"Concatenate v and w along columns:\\n\",np.vstack((v,w)))\n",
        "\n",
        "\n",
        "print(\"Concatenate x and v (corrected):\\n\",np.concatenate((x,v.reshape(1,2)),axis=0))\n"
      ],
      "metadata": {
        "colab": {
          "base_uri": "https://localhost:8080/"
        },
        "id": "twPTfobDr5PD",
        "outputId": "b4e0b22a-84b9-415e-d14c-1b5d5ca4ba5a"
      },
      "execution_count": null,
      "outputs": [
        {
          "output_type": "stream",
          "name": "stdout",
          "text": [
            "Sum of x and y:\n",
            " [[ 6  8]\n",
            " [10 13]]\n",
            "Difference of x and y:\n",
            " [[-4 -4]\n",
            " [-4 -3]]\n",
            "x multiplied by 3:\n",
            " [[ 3  6]\n",
            " [ 9 15]]\n",
            "Square of elements in x:\n",
            " [[ 1  4]\n",
            " [ 9 25]]\n",
            "Dot product of v and w: 219\n",
            "Dot product of x and v:\n",
            " [29 77]\n",
            "Dot product of x and y:\n",
            " [[19 22]\n",
            " [50 58]]\n",
            "Concatenate x and y along rows:\n",
            " [[1 2]\n",
            " [3 5]\n",
            " [5 6]\n",
            " [7 8]]\n",
            "Concatenate v and w along columns:\n",
            " [[ 9 10]\n",
            " [11 12]]\n",
            "Concatenate x and v (corrected):\n",
            " [[ 1  2]\n",
            " [ 3  5]\n",
            " [ 9 10]]\n"
          ]
        }
      ]
    },
    {
      "cell_type": "code",
      "source": [
        "import numpy as np\n",
        "\n",
        "A = np.array([[3, 4], [7, 8]])\n",
        "A_inv = np.linalg.inv(A)\n",
        "I = np.dot(A, A_inv)\n",
        "print(\"A.A−1 = I:\\n\", I)\n",
        "\n",
        "B = np.array([[5, 3], [2, 1]])\n",
        "AB = np.dot(A, B)\n",
        "BA = np.dot(B, A)\n",
        "print(\"\\nAB:\\n\", AB)\n",
        "print(\"\\nBA:\\n\", BA)\n",
        "print(\"\\nAB != BA:\", not np.array_equal(AB, BA))\n",
        "\n",
        "AB_T = np.transpose(AB)\n",
        "B_T = np.transpose(B)\n",
        "A_T = np.transpose(A)\n",
        "BT_AT = np.dot(B_T, A_T)\n",
        "print(\"\\n(AB)T:\\n\", AB_T)\n",
        "print(\"\\nBTAT:\\n\", BT_AT)\n",
        "print(\"\\n(AB)T = BTAT:\", np.array_equal(AB_T, BT_AT))\n",
        "\n",
        "A = np.array([[2, -3, 1], [1, -1, 2], [3, 1, -1]])\n",
        "B = np.array([-1, -3, 9])\n",
        "X = np.linalg.solve(A, B)\n",
        "print(\"\\nSolution using np.linalg.solve:\\n\", X)\n",
        "\n",
        "A_inv = np.linalg.inv(A)\n",
        "X = np.dot(A_inv, B)\n",
        "print(\"\\nSolution using np.linalg.inv:\\n\", X)"
      ],
      "metadata": {
        "colab": {
          "base_uri": "https://localhost:8080/"
        },
        "id": "m7u2nGeisqXp",
        "outputId": "15915863-85cb-455c-c539-efb870a81cf7"
      },
      "execution_count": null,
      "outputs": [
        {
          "output_type": "stream",
          "name": "stdout",
          "text": [
            "A.A−1 = I:\n",
            " [[1.00000000e+00 0.00000000e+00]\n",
            " [1.77635684e-15 1.00000000e+00]]\n",
            "\n",
            "AB:\n",
            " [[23 13]\n",
            " [51 29]]\n",
            "\n",
            "BA:\n",
            " [[36 44]\n",
            " [13 16]]\n",
            "\n",
            "AB != BA: True\n",
            "\n",
            "(AB)T:\n",
            " [[23 51]\n",
            " [13 29]]\n",
            "\n",
            "BTAT:\n",
            " [[23 51]\n",
            " [13 29]]\n",
            "\n",
            "(AB)T = BTAT: True\n",
            "\n",
            "Solution using np.linalg.solve:\n",
            " [ 2.  1. -2.]\n",
            "\n",
            "Solution using np.linalg.inv:\n",
            " [ 2.  1. -2.]\n"
          ]
        }
      ]
    }
  ]
}